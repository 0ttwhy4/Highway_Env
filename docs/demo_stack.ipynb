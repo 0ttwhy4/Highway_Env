{
 "cells": [
  {
   "cell_type": "markdown",
   "metadata": {},
   "source": [
    "This notebook is a really brief demo of the GrayscaleObservation introduced in the pull request. It is inspired by the observation model used in the vanilla DQN."
   ]
  },
  {
   "cell_type": "code",
   "execution_count": null,
   "metadata": {
    "pycharm": {
     "is_executing": false
    }
   },
   "outputs": [],
   "source": [
    "import sys\n",
    "\n",
    "sys.path.append(\"../\")\n",
    "from highway_env.envs.highway_env import HighwayEnv\n",
    "import matplotlib.pyplot as plt"
   ]
  },
  {
   "cell_type": "markdown",
   "metadata": {},
   "source": [
    "# Playing with the environment config"
   ]
  },
  {
   "cell_type": "markdown",
   "metadata": {},
   "source": [
    "For this example, I will use the HighwayEnv environment. "
   ]
  },
  {
   "cell_type": "code",
   "execution_count": null,
   "metadata": {
    "pycharm": {
     "is_executing": false
    }
   },
   "outputs": [],
   "source": [
    "screen_width, screen_height = 84, 84\n",
    "\n",
    "config = {\n",
    "    \"offscreen_rendering\": True, \n",
    "    \"observation\": {\n",
    "        \"type\": \"GrayscaleObservation\",\n",
    "        \"weights\": [0.2989, 0.5870, 0.1140],  #weights for RGB conversion\n",
    "        \"stack_size\": 4,\n",
    "        \"observation_shape\": (screen_width, screen_height)\n",
    "    }, \n",
    "    \"screen_width\": screen_width, \n",
    "    \"screen_height\": screen_height, \n",
    "    \"scaling\": 1.75, \n",
    "    \"policy_frequency\": 2\n",
    "}\n",
    "\n",
    "env = HighwayEnv()\n",
    "env.configure(config)\n",
    "init_stack = env.reset()  # Gathering the first stack, with only one frame so far\n",
    "print(\"Environment's configuration:\", env.config)\n"
   ]
  },
  {
   "cell_type": "code",
   "execution_count": null,
   "metadata": {
    "pycharm": {
     "is_executing": false
    }
   },
   "outputs": [],
   "source": [
    "# env.render()"
   ]
  },
  {
   "cell_type": "markdown",
   "metadata": {},
   "source": [
    "# Stacking process"
   ]
  },
  {
   "cell_type": "markdown",
   "metadata": {},
   "source": [
    "Now, I will illustrate that the stack is incremented as expected by performing 3 new steps in the environment."
   ]
  },
  {
   "cell_type": "code",
   "execution_count": null,
   "metadata": {
    "pycharm": {
     "is_executing": false
    },
    "scrolled": false
   },
   "outputs": [],
   "source": [
    "fig, ax = plt.subplots(ncols=2, nrows=2)\n",
    "fig.set_figheight(10)\n",
    "fig.set_figwidth(10)\n",
    "print(\"########################### Initial Stack ###########################\")\n",
    "for i in range(4):\n",
    "    row = int(i//2)\n",
    "    col = int(i%2)\n",
    "    ax[row, col].imshow(init_stack[:,:,i], cmap=plt.get_cmap('gray'))\n",
    "plt.show()\n",
    "\n",
    "for i in range(3):\n",
    "    out = env.step(1)\n",
    "    print(\"########################### New state ###########################\".format(i+1))\n",
    "    fig, ax = plt.subplots(ncols=2, nrows=2)\n",
    "    fig.set_figheight(10)\n",
    "    fig.set_figwidth(10)\n",
    "    for j in range(4):\n",
    "        row = int(j//2)\n",
    "        col = int(j%2)\n",
    "        ax[row, col].imshow(out[0][:,:,j], cmap=plt.get_cmap('gray'))\n",
    "        ax[row, col].set_title(\"frame #{}\".format(j))\n",
    "    plt.show()"
   ]
  }
 ],
 "metadata": {
  "kernelspec": {
   "display_name": "Python 3",
   "language": "python",
   "name": "python3"
  },
  "language_info": {
   "codemirror_mode": {
    "name": "ipython",
    "version": 3
   },
   "file_extension": ".py",
   "mimetype": "text/x-python",
   "name": "python",
   "nbconvert_exporter": "python",
   "pygments_lexer": "ipython3",
   "version": "3.6.8"
  },
  "pycharm": {
   "stem_cell": {
    "cell_type": "raw",
    "metadata": {
     "collapsed": false
    },
    "source": []
   }
  },
  "toc": {
   "base_numbering": 1,
   "nav_menu": {},
   "number_sections": true,
   "sideBar": true,
   "skip_h1_title": false,
   "title_cell": "Table of Contents",
   "title_sidebar": "Contents",
   "toc_cell": false,
   "toc_position": {},
   "toc_section_display": true,
   "toc_window_display": false
  }
 },
 "nbformat": 4,
 "nbformat_minor": 2
}
